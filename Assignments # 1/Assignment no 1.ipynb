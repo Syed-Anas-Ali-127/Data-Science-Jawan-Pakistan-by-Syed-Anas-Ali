{
 "cells": [
  {
   "cell_type": "code",
   "execution_count": 1,
   "id": "c34c5185",
   "metadata": {},
   "outputs": [
    {
     "name": "stdout",
     "output_type": "stream",
     "text": [
      "Twinkle, twinkle, little star\n",
      "\tHow I wonder what you are!\n",
      "\t\tUp above the world so high\n",
      "\t\tLike a Diamond in the Sky\n",
      "Twinkle, twinkle, little star\n",
      "\tHow I wonder what you are!\n"
     ]
    }
   ],
   "source": [
    "print(\"Twinkle, twinkle, little star\\n\\tHow I wonder what you are!\\n\\t\\tUp above the world so high\\n\\t\\tLike a Diamond in the Sky\\nTwinkle, twinkle, little star\\n\\tHow I wonder what you are!\");"
   ]
  },
  {
   "cell_type": "code",
   "execution_count": 2,
   "id": "290f4690",
   "metadata": {},
   "outputs": [
    {
     "name": "stdout",
     "output_type": "stream",
     "text": [
      "3.9.7\n"
     ]
    }
   ],
   "source": [
    "from platform import python_version\n",
    "\n",
    "print(python_version())"
   ]
  },
  {
   "cell_type": "code",
   "execution_count": 3,
   "id": "41509e45",
   "metadata": {},
   "outputs": [
    {
     "name": "stdout",
     "output_type": "stream",
     "text": [
      "Current date and time : \n",
      "2021-12-31 16:14:15\n"
     ]
    }
   ],
   "source": [
    "import datetime\n",
    "now = datetime.datetime.now()\n",
    "print (\"Current date and time : \")\n",
    "print (now.strftime(\"%Y-%m-%d %H:%M:%S\"))"
   ]
  },
  {
   "cell_type": "code",
   "execution_count": 4,
   "id": "e017c306",
   "metadata": {},
   "outputs": [
    {
     "name": "stdout",
     "output_type": "stream",
     "text": [
      "Enter the radius of circle :2\n",
      "The area of circle is : 12.566370614359172\n"
     ]
    }
   ],
   "source": [
    "r = float(input(\"Enter the radius of circle :\"))\n",
    "from math import pi\n",
    "res = str(pi * r**2)\n",
    "print(\"The area of circle is : \" + res)\n"
   ]
  },
  {
   "cell_type": "code",
   "execution_count": 15,
   "id": "26999011",
   "metadata": {},
   "outputs": [
    {
     "name": "stdout",
     "output_type": "stream",
     "text": [
      "Enter the first name : anas\n",
      "Enter the last name : ali\n",
      "The Complete name is : anas ali\n",
      "The reverse name is : ila sana\n"
     ]
    }
   ],
   "source": [
    "first = str(input(\"Enter the first name : \"))\n",
    "last = str(input(\"Enter the last name : \"))\n",
    "rvfirst = first[::-1]\n",
    "rvlast = last[::-1]\n",
    "print(\"The Complete name is : \" + first + \" \" + last)\n",
    "print(\"The reverse name is : \" + rvlast + \" \" + rvfirst)"
   ]
  },
  {
   "cell_type": "code",
   "execution_count": 14,
   "id": "3739a582",
   "metadata": {},
   "outputs": [
    {
     "name": "stdout",
     "output_type": "stream",
     "text": [
      "enter the 1st no : 1\n",
      "enter the 2nd no : 2\n",
      "the sum is : 3.0\n"
     ]
    }
   ],
   "source": [
    "a = float(input(\"enter the 1st no : \"))\n",
    "b = float(input(\"enter the 2nd no : \"))\n",
    "c = str(a + b)\n",
    "print(\"the sum is : \" + c)"
   ]
  },
  {
   "cell_type": "code",
   "execution_count": null,
   "id": "aa999571",
   "metadata": {},
   "outputs": [],
   "source": []
  }
 ],
 "metadata": {
  "kernelspec": {
   "display_name": "Python 3 (ipykernel)",
   "language": "python",
   "name": "python3"
  },
  "language_info": {
   "codemirror_mode": {
    "name": "ipython",
    "version": 3
   },
   "file_extension": ".py",
   "mimetype": "text/x-python",
   "name": "python",
   "nbconvert_exporter": "python",
   "pygments_lexer": "ipython3",
   "version": "3.9.7"
  }
 },
 "nbformat": 4,
 "nbformat_minor": 5
}
